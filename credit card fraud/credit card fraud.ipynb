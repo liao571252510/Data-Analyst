{
 "cells": [
  {
   "cell_type": "markdown",
   "metadata": {},
   "source": [
    "## 4.基于逻辑回归分类算法的信用卡欺诈检测"
   ]
  },
  {
   "cell_type": "markdown",
   "metadata": {},
   "source": [
    "**1.读取数据，分析数据**"
   ]
  },
  {
   "cell_type": "markdown",
   "metadata": {},
   "source": [
    "导入工具包"
   ]
  },
  {
   "cell_type": "code",
   "execution_count": 1,
   "metadata": {},
   "outputs": [],
   "source": [
    "import pandas as pd\n",
    "import matplotlib.pyplot as plt\n",
    "import numpy as np\n",
    "import warnings#导入warning模块\n",
    "warnings.filterwarnings('ignore')#忽略所有警告信息\n",
    "%matplotlib inline "
   ]
  },
  {
   "cell_type": "markdown",
   "metadata": {},
   "source": [
    "读取数据"
   ]
  },
  {
   "cell_type": "code",
   "execution_count": 2,
   "metadata": {},
   "outputs": [
    {
     "data": {
      "text/html": [
       "<div>\n",
       "<style scoped>\n",
       "    .dataframe tbody tr th:only-of-type {\n",
       "        vertical-align: middle;\n",
       "    }\n",
       "\n",
       "    .dataframe tbody tr th {\n",
       "        vertical-align: top;\n",
       "    }\n",
       "\n",
       "    .dataframe thead th {\n",
       "        text-align: right;\n",
       "    }\n",
       "</style>\n",
       "<table border=\"1\" class=\"dataframe\">\n",
       "  <thead>\n",
       "    <tr style=\"text-align: right;\">\n",
       "      <th></th>\n",
       "      <th>时间</th>\n",
       "      <th>V1</th>\n",
       "      <th>V2</th>\n",
       "      <th>V3</th>\n",
       "      <th>V4</th>\n",
       "      <th>V5</th>\n",
       "      <th>V6</th>\n",
       "      <th>V7</th>\n",
       "      <th>V8</th>\n",
       "      <th>V9</th>\n",
       "      <th>...</th>\n",
       "      <th>V21</th>\n",
       "      <th>V22</th>\n",
       "      <th>V23</th>\n",
       "      <th>V24</th>\n",
       "      <th>V25</th>\n",
       "      <th>V26</th>\n",
       "      <th>V27</th>\n",
       "      <th>V28</th>\n",
       "      <th>交易金额</th>\n",
       "      <th>类别</th>\n",
       "    </tr>\n",
       "  </thead>\n",
       "  <tbody>\n",
       "    <tr>\n",
       "      <th>0</th>\n",
       "      <td>2.0</td>\n",
       "      <td>-0.425966</td>\n",
       "      <td>0.960523</td>\n",
       "      <td>1.141109</td>\n",
       "      <td>-0.168252</td>\n",
       "      <td>0.420987</td>\n",
       "      <td>-0.029728</td>\n",
       "      <td>0.476201</td>\n",
       "      <td>0.260314</td>\n",
       "      <td>-0.568671</td>\n",
       "      <td>...</td>\n",
       "      <td>-0.208254</td>\n",
       "      <td>-0.559825</td>\n",
       "      <td>-0.026398</td>\n",
       "      <td>-0.371427</td>\n",
       "      <td>-0.232794</td>\n",
       "      <td>0.105915</td>\n",
       "      <td>0.253844</td>\n",
       "      <td>0.081080</td>\n",
       "      <td>3.67</td>\n",
       "      <td>0</td>\n",
       "    </tr>\n",
       "    <tr>\n",
       "      <th>1</th>\n",
       "      <td>4.0</td>\n",
       "      <td>1.229658</td>\n",
       "      <td>0.141004</td>\n",
       "      <td>0.045371</td>\n",
       "      <td>1.202613</td>\n",
       "      <td>0.191881</td>\n",
       "      <td>0.272708</td>\n",
       "      <td>-0.005159</td>\n",
       "      <td>0.081213</td>\n",
       "      <td>0.464960</td>\n",
       "      <td>...</td>\n",
       "      <td>-0.167716</td>\n",
       "      <td>-0.270710</td>\n",
       "      <td>-0.154104</td>\n",
       "      <td>-0.780055</td>\n",
       "      <td>0.750137</td>\n",
       "      <td>-0.257237</td>\n",
       "      <td>0.034507</td>\n",
       "      <td>0.005168</td>\n",
       "      <td>4.99</td>\n",
       "      <td>0</td>\n",
       "    </tr>\n",
       "    <tr>\n",
       "      <th>2</th>\n",
       "      <td>7.0</td>\n",
       "      <td>-0.644269</td>\n",
       "      <td>1.417964</td>\n",
       "      <td>1.074380</td>\n",
       "      <td>-0.492199</td>\n",
       "      <td>0.948934</td>\n",
       "      <td>0.428118</td>\n",
       "      <td>1.120631</td>\n",
       "      <td>-3.807864</td>\n",
       "      <td>0.615375</td>\n",
       "      <td>...</td>\n",
       "      <td>1.943465</td>\n",
       "      <td>-1.015455</td>\n",
       "      <td>0.057504</td>\n",
       "      <td>-0.649709</td>\n",
       "      <td>-0.415267</td>\n",
       "      <td>-0.051634</td>\n",
       "      <td>-1.206921</td>\n",
       "      <td>-1.085339</td>\n",
       "      <td>40.80</td>\n",
       "      <td>0</td>\n",
       "    </tr>\n",
       "    <tr>\n",
       "      <th>3</th>\n",
       "      <td>7.0</td>\n",
       "      <td>-0.894286</td>\n",
       "      <td>0.286157</td>\n",
       "      <td>-0.113192</td>\n",
       "      <td>-0.271526</td>\n",
       "      <td>2.669599</td>\n",
       "      <td>3.721818</td>\n",
       "      <td>0.370145</td>\n",
       "      <td>0.851084</td>\n",
       "      <td>-0.392048</td>\n",
       "      <td>...</td>\n",
       "      <td>-0.073425</td>\n",
       "      <td>-0.268092</td>\n",
       "      <td>-0.204233</td>\n",
       "      <td>1.011592</td>\n",
       "      <td>0.373205</td>\n",
       "      <td>-0.384157</td>\n",
       "      <td>0.011747</td>\n",
       "      <td>0.142404</td>\n",
       "      <td>93.20</td>\n",
       "      <td>0</td>\n",
       "    </tr>\n",
       "    <tr>\n",
       "      <th>4</th>\n",
       "      <td>9.0</td>\n",
       "      <td>-0.338262</td>\n",
       "      <td>1.119593</td>\n",
       "      <td>1.044367</td>\n",
       "      <td>-0.222187</td>\n",
       "      <td>0.499361</td>\n",
       "      <td>-0.246761</td>\n",
       "      <td>0.651583</td>\n",
       "      <td>0.069539</td>\n",
       "      <td>-0.736727</td>\n",
       "      <td>...</td>\n",
       "      <td>-0.246914</td>\n",
       "      <td>-0.633753</td>\n",
       "      <td>-0.120794</td>\n",
       "      <td>-0.385050</td>\n",
       "      <td>-0.069733</td>\n",
       "      <td>0.094199</td>\n",
       "      <td>0.246219</td>\n",
       "      <td>0.083076</td>\n",
       "      <td>3.68</td>\n",
       "      <td>0</td>\n",
       "    </tr>\n",
       "    <tr>\n",
       "      <th>...</th>\n",
       "      <td>...</td>\n",
       "      <td>...</td>\n",
       "      <td>...</td>\n",
       "      <td>...</td>\n",
       "      <td>...</td>\n",
       "      <td>...</td>\n",
       "      <td>...</td>\n",
       "      <td>...</td>\n",
       "      <td>...</td>\n",
       "      <td>...</td>\n",
       "      <td>...</td>\n",
       "      <td>...</td>\n",
       "      <td>...</td>\n",
       "      <td>...</td>\n",
       "      <td>...</td>\n",
       "      <td>...</td>\n",
       "      <td>...</td>\n",
       "      <td>...</td>\n",
       "      <td>...</td>\n",
       "      <td>...</td>\n",
       "      <td>...</td>\n",
       "    </tr>\n",
       "    <tr>\n",
       "      <th>284792</th>\n",
       "      <td>172782.0</td>\n",
       "      <td>-0.241923</td>\n",
       "      <td>0.712247</td>\n",
       "      <td>0.399806</td>\n",
       "      <td>-0.463406</td>\n",
       "      <td>0.244531</td>\n",
       "      <td>-1.343668</td>\n",
       "      <td>0.929369</td>\n",
       "      <td>-0.206210</td>\n",
       "      <td>0.106234</td>\n",
       "      <td>...</td>\n",
       "      <td>-0.228876</td>\n",
       "      <td>-0.514376</td>\n",
       "      <td>0.279598</td>\n",
       "      <td>0.371441</td>\n",
       "      <td>-0.559238</td>\n",
       "      <td>0.113144</td>\n",
       "      <td>0.131507</td>\n",
       "      <td>0.081265</td>\n",
       "      <td>5.49</td>\n",
       "      <td>0</td>\n",
       "    </tr>\n",
       "    <tr>\n",
       "      <th>284793</th>\n",
       "      <td>172782.0</td>\n",
       "      <td>0.219529</td>\n",
       "      <td>0.881246</td>\n",
       "      <td>-0.635891</td>\n",
       "      <td>0.960928</td>\n",
       "      <td>-0.152971</td>\n",
       "      <td>-1.014307</td>\n",
       "      <td>0.427126</td>\n",
       "      <td>0.121340</td>\n",
       "      <td>-0.285670</td>\n",
       "      <td>...</td>\n",
       "      <td>0.099936</td>\n",
       "      <td>0.337120</td>\n",
       "      <td>0.251791</td>\n",
       "      <td>0.057688</td>\n",
       "      <td>-1.508368</td>\n",
       "      <td>0.144023</td>\n",
       "      <td>0.181205</td>\n",
       "      <td>0.215243</td>\n",
       "      <td>24.05</td>\n",
       "      <td>0</td>\n",
       "    </tr>\n",
       "    <tr>\n",
       "      <th>284794</th>\n",
       "      <td>172783.0</td>\n",
       "      <td>-1.775135</td>\n",
       "      <td>-0.004235</td>\n",
       "      <td>1.189786</td>\n",
       "      <td>0.331096</td>\n",
       "      <td>1.196063</td>\n",
       "      <td>5.519980</td>\n",
       "      <td>-1.518185</td>\n",
       "      <td>2.080825</td>\n",
       "      <td>1.159498</td>\n",
       "      <td>...</td>\n",
       "      <td>0.103302</td>\n",
       "      <td>0.654850</td>\n",
       "      <td>-0.348929</td>\n",
       "      <td>0.745323</td>\n",
       "      <td>0.704545</td>\n",
       "      <td>-0.127579</td>\n",
       "      <td>0.454379</td>\n",
       "      <td>0.130308</td>\n",
       "      <td>79.99</td>\n",
       "      <td>0</td>\n",
       "    </tr>\n",
       "    <tr>\n",
       "      <th>284795</th>\n",
       "      <td>172784.0</td>\n",
       "      <td>2.039560</td>\n",
       "      <td>-0.175233</td>\n",
       "      <td>-1.196825</td>\n",
       "      <td>0.234580</td>\n",
       "      <td>-0.008713</td>\n",
       "      <td>-0.726571</td>\n",
       "      <td>0.017050</td>\n",
       "      <td>-0.118228</td>\n",
       "      <td>0.435402</td>\n",
       "      <td>...</td>\n",
       "      <td>-0.268048</td>\n",
       "      <td>-0.717211</td>\n",
       "      <td>0.297930</td>\n",
       "      <td>-0.359769</td>\n",
       "      <td>-0.315610</td>\n",
       "      <td>0.201114</td>\n",
       "      <td>-0.080826</td>\n",
       "      <td>-0.075071</td>\n",
       "      <td>2.68</td>\n",
       "      <td>0</td>\n",
       "    </tr>\n",
       "    <tr>\n",
       "      <th>284796</th>\n",
       "      <td>172785.0</td>\n",
       "      <td>0.120316</td>\n",
       "      <td>0.931005</td>\n",
       "      <td>-0.546012</td>\n",
       "      <td>-0.745097</td>\n",
       "      <td>1.130314</td>\n",
       "      <td>-0.235973</td>\n",
       "      <td>0.812722</td>\n",
       "      <td>0.115093</td>\n",
       "      <td>-0.204064</td>\n",
       "      <td>...</td>\n",
       "      <td>-0.314205</td>\n",
       "      <td>-0.808520</td>\n",
       "      <td>0.050343</td>\n",
       "      <td>0.102800</td>\n",
       "      <td>-0.435870</td>\n",
       "      <td>0.124079</td>\n",
       "      <td>0.217940</td>\n",
       "      <td>0.068803</td>\n",
       "      <td>2.69</td>\n",
       "      <td>0</td>\n",
       "    </tr>\n",
       "  </tbody>\n",
       "</table>\n",
       "<p>284797 rows × 31 columns</p>\n",
       "</div>"
      ],
      "text/plain": [
       "              时间        V1        V2        V3        V4        V5        V6  \\\n",
       "0            2.0 -0.425966  0.960523  1.141109 -0.168252  0.420987 -0.029728   \n",
       "1            4.0  1.229658  0.141004  0.045371  1.202613  0.191881  0.272708   \n",
       "2            7.0 -0.644269  1.417964  1.074380 -0.492199  0.948934  0.428118   \n",
       "3            7.0 -0.894286  0.286157 -0.113192 -0.271526  2.669599  3.721818   \n",
       "4            9.0 -0.338262  1.119593  1.044367 -0.222187  0.499361 -0.246761   \n",
       "...          ...       ...       ...       ...       ...       ...       ...   \n",
       "284792  172782.0 -0.241923  0.712247  0.399806 -0.463406  0.244531 -1.343668   \n",
       "284793  172782.0  0.219529  0.881246 -0.635891  0.960928 -0.152971 -1.014307   \n",
       "284794  172783.0 -1.775135 -0.004235  1.189786  0.331096  1.196063  5.519980   \n",
       "284795  172784.0  2.039560 -0.175233 -1.196825  0.234580 -0.008713 -0.726571   \n",
       "284796  172785.0  0.120316  0.931005 -0.546012 -0.745097  1.130314 -0.235973   \n",
       "\n",
       "              V7        V8        V9  ...       V21       V22       V23  \\\n",
       "0       0.476201  0.260314 -0.568671  ... -0.208254 -0.559825 -0.026398   \n",
       "1      -0.005159  0.081213  0.464960  ... -0.167716 -0.270710 -0.154104   \n",
       "2       1.120631 -3.807864  0.615375  ...  1.943465 -1.015455  0.057504   \n",
       "3       0.370145  0.851084 -0.392048  ... -0.073425 -0.268092 -0.204233   \n",
       "4       0.651583  0.069539 -0.736727  ... -0.246914 -0.633753 -0.120794   \n",
       "...          ...       ...       ...  ...       ...       ...       ...   \n",
       "284792  0.929369 -0.206210  0.106234  ... -0.228876 -0.514376  0.279598   \n",
       "284793  0.427126  0.121340 -0.285670  ...  0.099936  0.337120  0.251791   \n",
       "284794 -1.518185  2.080825  1.159498  ...  0.103302  0.654850 -0.348929   \n",
       "284795  0.017050 -0.118228  0.435402  ... -0.268048 -0.717211  0.297930   \n",
       "284796  0.812722  0.115093 -0.204064  ... -0.314205 -0.808520  0.050343   \n",
       "\n",
       "             V24       V25       V26       V27       V28   交易金额  类别  \n",
       "0      -0.371427 -0.232794  0.105915  0.253844  0.081080   3.67   0  \n",
       "1      -0.780055  0.750137 -0.257237  0.034507  0.005168   4.99   0  \n",
       "2      -0.649709 -0.415267 -0.051634 -1.206921 -1.085339  40.80   0  \n",
       "3       1.011592  0.373205 -0.384157  0.011747  0.142404  93.20   0  \n",
       "4      -0.385050 -0.069733  0.094199  0.246219  0.083076   3.68   0  \n",
       "...          ...       ...       ...       ...       ...    ...  ..  \n",
       "284792  0.371441 -0.559238  0.113144  0.131507  0.081265   5.49   0  \n",
       "284793  0.057688 -1.508368  0.144023  0.181205  0.215243  24.05   0  \n",
       "284794  0.745323  0.704545 -0.127579  0.454379  0.130308  79.99   0  \n",
       "284795 -0.359769 -0.315610  0.201114 -0.080826 -0.075071   2.68   0  \n",
       "284796  0.102800 -0.435870  0.124079  0.217940  0.068803   2.69   0  \n",
       "\n",
       "[284797 rows x 31 columns]"
      ]
     },
     "execution_count": 2,
     "metadata": {},
     "output_type": "execute_result"
    }
   ],
   "source": [
    "data = pd.read_csv('data/data_creditcard.csv',encoding='gbk')\n",
    "data"
   ]
  },
  {
   "cell_type": "markdown",
   "metadata": {},
   "source": [
    "上述数据解释：特征1-特征28是已经处理好的特征数据，原始数据为个人交易记录，但考虑到数据本身的隐私性，对原数据进行了处理。<br/>\n",
    "观察表格可以发现数据有两个问题：1.“时间”这一列对本案例没有意义；2.“交易金额”这一列数值波动太大，会导致后续权重分配不均匀。<br/>\n",
    "<br/>\n",
    "观察正常、异常 数据量：对“类别”列的数据分类（0、1类）、技术，并绘制柱状图来展现0、1的分布情况"
   ]
  },
  {
   "cell_type": "code",
   "execution_count": 3,
   "metadata": {
    "scrolled": true
   },
   "outputs": [
    {
     "data": {
      "text/plain": [
       "Text(0, 0.5, 'Frequency')"
      ]
     },
     "execution_count": 3,
     "metadata": {},
     "output_type": "execute_result"
    },
    {
     "data": {
      "image/png": "[encoded data removed]",
      "text/plain": [
       "<Figure size 640x480 with 1 Axes>"
      ]
     },
     "metadata": {},
     "output_type": "display_data"
    }
   ],
   "source": [
    "count_classes = pd.value_counts(data['类别'],sort=True)#先通过pandas中的value_counts函数计算“类别”列中0,1各有多少个。\n",
    "#value_count()查看表格某列中的有几种不同值，并计算每种不同值在该列有多少重复值。\n",
    "count_classes.plot(kind = 'bar')\n",
    "plt.title(\"Fraud class histogram\")\n",
    "plt.xlabel(\"Class\")\n",
    "plt.ylabel(\"Frequency\")"
   ]
  },
  {
   "cell_type": "markdown",
   "metadata": {},
   "source": [
    "上述结果解释：观察柱状图，class=0的数据大概有28w，class=1的数据只有500，数据极度不均衡，要进行数据均衡处理，有两种方法：1、下采样（让0和1一样少，从0中选出500个）2、过采样（让1和0一样多，以原始数据集为依据，创造新的样本）。"
   ]
  },
  {
   "cell_type": "markdown",
   "metadata": {},
   "source": [
    "**2.数据预处理**"
   ]
  },
  {
   "cell_type": "markdown",
   "metadata": {},
   "source": [
    "**2.1.标准化数据**"
   ]
  },
  {
   "cell_type": "code",
   "execution_count": 4,
   "metadata": {},
   "outputs": [],
   "source": [
    "#导入sklearn中预处理的标准化模块\n",
    "from sklearn.preprocessing import StandardScaler\n",
    "\n",
    "#对“交易金额”列标准化，得到新列“标准交易金额”\n",
    "data['标准化交易金额'] = StandardScaler().fit_transform(data['交易金额'].values.reshape(-1, 1))\n",
    "#fit_transform：fit计算参数μ、o，transform标准化：(x-μ)/0。\n",
    "#.values：API文档要求转换成array格式；.reshape(-1,1)：API文档要求二维"
   ]
  },
  {
   "cell_type": "markdown",
   "metadata": {},
   "source": [
    "**2.2.删除无关列**"
   ]
  },
  {
   "cell_type": "code",
   "execution_count": 5,
   "metadata": {},
   "outputs": [
    {
     "data": {
      "text/html": [
       "<div>\n",
       "<style scoped>\n",
       "    .dataframe tbody tr th:only-of-type {\n",
       "        vertical-align: middle;\n",
       "    }\n",
       "\n",
       "    .dataframe tbody tr th {\n",
       "        vertical-align: top;\n",
       "    }\n",
       "\n",
       "    .dataframe thead th {\n",
       "        text-align: right;\n",
       "    }\n",
       "</style>\n",
       "<table border=\"1\" class=\"dataframe\">\n",
       "  <thead>\n",
       "    <tr style=\"text-align: right;\">\n",
       "      <th></th>\n",
       "      <th>V1</th>\n",
       "      <th>V2</th>\n",
       "      <th>V3</th>\n",
       "      <th>V4</th>\n",
       "      <th>V5</th>\n",
       "      <th>V6</th>\n",
       "      <th>V7</th>\n",
       "      <th>V8</th>\n",
       "      <th>V9</th>\n",
       "      <th>V10</th>\n",
       "      <th>...</th>\n",
       "      <th>V21</th>\n",
       "      <th>V22</th>\n",
       "      <th>V23</th>\n",
       "      <th>V24</th>\n",
       "      <th>V25</th>\n",
       "      <th>V26</th>\n",
       "      <th>V27</th>\n",
       "      <th>V28</th>\n",
       "      <th>类别</th>\n",
       "      <th>标准化交易金额</th>\n",
       "    </tr>\n",
       "  </thead>\n",
       "  <tbody>\n",
       "    <tr>\n",
       "      <th>0</th>\n",
       "      <td>-0.425966</td>\n",
       "      <td>0.960523</td>\n",
       "      <td>1.141109</td>\n",
       "      <td>-0.168252</td>\n",
       "      <td>0.420987</td>\n",
       "      <td>-0.029728</td>\n",
       "      <td>0.476201</td>\n",
       "      <td>0.260314</td>\n",
       "      <td>-0.568671</td>\n",
       "      <td>-0.371407</td>\n",
       "      <td>...</td>\n",
       "      <td>-0.208254</td>\n",
       "      <td>-0.559825</td>\n",
       "      <td>-0.026398</td>\n",
       "      <td>-0.371427</td>\n",
       "      <td>-0.232794</td>\n",
       "      <td>0.105915</td>\n",
       "      <td>0.253844</td>\n",
       "      <td>0.081080</td>\n",
       "      <td>0</td>\n",
       "      <td>-0.338549</td>\n",
       "    </tr>\n",
       "    <tr>\n",
       "      <th>1</th>\n",
       "      <td>1.229658</td>\n",
       "      <td>0.141004</td>\n",
       "      <td>0.045371</td>\n",
       "      <td>1.202613</td>\n",
       "      <td>0.191881</td>\n",
       "      <td>0.272708</td>\n",
       "      <td>-0.005159</td>\n",
       "      <td>0.081213</td>\n",
       "      <td>0.464960</td>\n",
       "      <td>-0.099254</td>\n",
       "      <td>...</td>\n",
       "      <td>-0.167716</td>\n",
       "      <td>-0.270710</td>\n",
       "      <td>-0.154104</td>\n",
       "      <td>-0.780055</td>\n",
       "      <td>0.750137</td>\n",
       "      <td>-0.257237</td>\n",
       "      <td>0.034507</td>\n",
       "      <td>0.005168</td>\n",
       "      <td>0</td>\n",
       "      <td>-0.333272</td>\n",
       "    </tr>\n",
       "    <tr>\n",
       "      <th>2</th>\n",
       "      <td>-0.644269</td>\n",
       "      <td>1.417964</td>\n",
       "      <td>1.074380</td>\n",
       "      <td>-0.492199</td>\n",
       "      <td>0.948934</td>\n",
       "      <td>0.428118</td>\n",
       "      <td>1.120631</td>\n",
       "      <td>-3.807864</td>\n",
       "      <td>0.615375</td>\n",
       "      <td>1.249376</td>\n",
       "      <td>...</td>\n",
       "      <td>1.943465</td>\n",
       "      <td>-1.015455</td>\n",
       "      <td>0.057504</td>\n",
       "      <td>-0.649709</td>\n",
       "      <td>-0.415267</td>\n",
       "      <td>-0.051634</td>\n",
       "      <td>-1.206921</td>\n",
       "      <td>-1.085339</td>\n",
       "      <td>0</td>\n",
       "      <td>-0.190103</td>\n",
       "    </tr>\n",
       "    <tr>\n",
       "      <th>3</th>\n",
       "      <td>-0.894286</td>\n",
       "      <td>0.286157</td>\n",
       "      <td>-0.113192</td>\n",
       "      <td>-0.271526</td>\n",
       "      <td>2.669599</td>\n",
       "      <td>3.721818</td>\n",
       "      <td>0.370145</td>\n",
       "      <td>0.851084</td>\n",
       "      <td>-0.392048</td>\n",
       "      <td>-0.410430</td>\n",
       "      <td>...</td>\n",
       "      <td>-0.073425</td>\n",
       "      <td>-0.268092</td>\n",
       "      <td>-0.204233</td>\n",
       "      <td>1.011592</td>\n",
       "      <td>0.373205</td>\n",
       "      <td>-0.384157</td>\n",
       "      <td>0.011747</td>\n",
       "      <td>0.142404</td>\n",
       "      <td>0</td>\n",
       "      <td>0.019394</td>\n",
       "    </tr>\n",
       "    <tr>\n",
       "      <th>4</th>\n",
       "      <td>-0.338262</td>\n",
       "      <td>1.119593</td>\n",
       "      <td>1.044367</td>\n",
       "      <td>-0.222187</td>\n",
       "      <td>0.499361</td>\n",
       "      <td>-0.246761</td>\n",
       "      <td>0.651583</td>\n",
       "      <td>0.069539</td>\n",
       "      <td>-0.736727</td>\n",
       "      <td>-0.366846</td>\n",
       "      <td>...</td>\n",
       "      <td>-0.246914</td>\n",
       "      <td>-0.633753</td>\n",
       "      <td>-0.120794</td>\n",
       "      <td>-0.385050</td>\n",
       "      <td>-0.069733</td>\n",
       "      <td>0.094199</td>\n",
       "      <td>0.246219</td>\n",
       "      <td>0.083076</td>\n",
       "      <td>0</td>\n",
       "      <td>-0.338509</td>\n",
       "    </tr>\n",
       "    <tr>\n",
       "      <th>...</th>\n",
       "      <td>...</td>\n",
       "      <td>...</td>\n",
       "      <td>...</td>\n",
       "      <td>...</td>\n",
       "      <td>...</td>\n",
       "      <td>...</td>\n",
       "      <td>...</td>\n",
       "      <td>...</td>\n",
       "      <td>...</td>\n",
       "      <td>...</td>\n",
       "      <td>...</td>\n",
       "      <td>...</td>\n",
       "      <td>...</td>\n",
       "      <td>...</td>\n",
       "      <td>...</td>\n",
       "      <td>...</td>\n",
       "      <td>...</td>\n",
       "      <td>...</td>\n",
       "      <td>...</td>\n",
       "      <td>...</td>\n",
       "      <td>...</td>\n",
       "    </tr>\n",
       "    <tr>\n",
       "      <th>284792</th>\n",
       "      <td>-0.241923</td>\n",
       "      <td>0.712247</td>\n",
       "      <td>0.399806</td>\n",
       "      <td>-0.463406</td>\n",
       "      <td>0.244531</td>\n",
       "      <td>-1.343668</td>\n",
       "      <td>0.929369</td>\n",
       "      <td>-0.206210</td>\n",
       "      <td>0.106234</td>\n",
       "      <td>-0.284708</td>\n",
       "      <td>...</td>\n",
       "      <td>-0.228876</td>\n",
       "      <td>-0.514376</td>\n",
       "      <td>0.279598</td>\n",
       "      <td>0.371441</td>\n",
       "      <td>-0.559238</td>\n",
       "      <td>0.113144</td>\n",
       "      <td>0.131507</td>\n",
       "      <td>0.081265</td>\n",
       "      <td>0</td>\n",
       "      <td>-0.331273</td>\n",
       "    </tr>\n",
       "    <tr>\n",
       "      <th>284793</th>\n",
       "      <td>0.219529</td>\n",
       "      <td>0.881246</td>\n",
       "      <td>-0.635891</td>\n",
       "      <td>0.960928</td>\n",
       "      <td>-0.152971</td>\n",
       "      <td>-1.014307</td>\n",
       "      <td>0.427126</td>\n",
       "      <td>0.121340</td>\n",
       "      <td>-0.285670</td>\n",
       "      <td>-0.111640</td>\n",
       "      <td>...</td>\n",
       "      <td>0.099936</td>\n",
       "      <td>0.337120</td>\n",
       "      <td>0.251791</td>\n",
       "      <td>0.057688</td>\n",
       "      <td>-1.508368</td>\n",
       "      <td>0.144023</td>\n",
       "      <td>0.181205</td>\n",
       "      <td>0.215243</td>\n",
       "      <td>0</td>\n",
       "      <td>-0.257070</td>\n",
       "    </tr>\n",
       "    <tr>\n",
       "      <th>284794</th>\n",
       "      <td>-1.775135</td>\n",
       "      <td>-0.004235</td>\n",
       "      <td>1.189786</td>\n",
       "      <td>0.331096</td>\n",
       "      <td>1.196063</td>\n",
       "      <td>5.519980</td>\n",
       "      <td>-1.518185</td>\n",
       "      <td>2.080825</td>\n",
       "      <td>1.159498</td>\n",
       "      <td>-0.594242</td>\n",
       "      <td>...</td>\n",
       "      <td>0.103302</td>\n",
       "      <td>0.654850</td>\n",
       "      <td>-0.348929</td>\n",
       "      <td>0.745323</td>\n",
       "      <td>0.704545</td>\n",
       "      <td>-0.127579</td>\n",
       "      <td>0.454379</td>\n",
       "      <td>0.130308</td>\n",
       "      <td>0</td>\n",
       "      <td>-0.033420</td>\n",
       "    </tr>\n",
       "    <tr>\n",
       "      <th>284795</th>\n",
       "      <td>2.039560</td>\n",
       "      <td>-0.175233</td>\n",
       "      <td>-1.196825</td>\n",
       "      <td>0.234580</td>\n",
       "      <td>-0.008713</td>\n",
       "      <td>-0.726571</td>\n",
       "      <td>0.017050</td>\n",
       "      <td>-0.118228</td>\n",
       "      <td>0.435402</td>\n",
       "      <td>0.267772</td>\n",
       "      <td>...</td>\n",
       "      <td>-0.268048</td>\n",
       "      <td>-0.717211</td>\n",
       "      <td>0.297930</td>\n",
       "      <td>-0.359769</td>\n",
       "      <td>-0.315610</td>\n",
       "      <td>0.201114</td>\n",
       "      <td>-0.080826</td>\n",
       "      <td>-0.075071</td>\n",
       "      <td>0</td>\n",
       "      <td>-0.342508</td>\n",
       "    </tr>\n",
       "    <tr>\n",
       "      <th>284796</th>\n",
       "      <td>0.120316</td>\n",
       "      <td>0.931005</td>\n",
       "      <td>-0.546012</td>\n",
       "      <td>-0.745097</td>\n",
       "      <td>1.130314</td>\n",
       "      <td>-0.235973</td>\n",
       "      <td>0.812722</td>\n",
       "      <td>0.115093</td>\n",
       "      <td>-0.204064</td>\n",
       "      <td>-0.657422</td>\n",
       "      <td>...</td>\n",
       "      <td>-0.314205</td>\n",
       "      <td>-0.808520</td>\n",
       "      <td>0.050343</td>\n",
       "      <td>0.102800</td>\n",
       "      <td>-0.435870</td>\n",
       "      <td>0.124079</td>\n",
       "      <td>0.217940</td>\n",
       "      <td>0.068803</td>\n",
       "      <td>0</td>\n",
       "      <td>-0.342468</td>\n",
       "    </tr>\n",
       "  </tbody>\n",
       "</table>\n",
       "<p>284797 rows × 30 columns</p>\n",
       "</div>"
      ],
      "text/plain": [
       "              V1        V2        V3        V4        V5        V6        V7  \\\n",
       "0      -0.425966  0.960523  1.141109 -0.168252  0.420987 -0.029728  0.476201   \n",
       "1       1.229658  0.141004  0.045371  1.202613  0.191881  0.272708 -0.005159   \n",
       "2      -0.644269  1.417964  1.074380 -0.492199  0.948934  0.428118  1.120631   \n",
       "3      -0.894286  0.286157 -0.113192 -0.271526  2.669599  3.721818  0.370145   \n",
       "4      -0.338262  1.119593  1.044367 -0.222187  0.499361 -0.246761  0.651583   \n",
       "...          ...       ...       ...       ...       ...       ...       ...   \n",
       "284792 -0.241923  0.712247  0.399806 -0.463406  0.244531 -1.343668  0.929369   \n",
       "284793  0.219529  0.881246 -0.635891  0.960928 -0.152971 -1.014307  0.427126   \n",
       "284794 -1.775135 -0.004235  1.189786  0.331096  1.196063  5.519980 -1.518185   \n",
       "284795  2.039560 -0.175233 -1.196825  0.234580 -0.008713 -0.726571  0.017050   \n",
       "284796  0.120316  0.931005 -0.546012 -0.745097  1.130314 -0.235973  0.812722   \n",
       "\n",
       "              V8        V9       V10  ...       V21       V22       V23  \\\n",
       "0       0.260314 -0.568671 -0.371407  ... -0.208254 -0.559825 -0.026398   \n",
       "1       0.081213  0.464960 -0.099254  ... -0.167716 -0.270710 -0.154104   \n",
       "2      -3.807864  0.615375  1.249376  ...  1.943465 -1.015455  0.057504   \n",
       "3       0.851084 -0.392048 -0.410430  ... -0.073425 -0.268092 -0.204233   \n",
       "4       0.069539 -0.736727 -0.366846  ... -0.246914 -0.633753 -0.120794   \n",
       "...          ...       ...       ...  ...       ...       ...       ...   \n",
       "284792 -0.206210  0.106234 -0.284708  ... -0.228876 -0.514376  0.279598   \n",
       "284793  0.121340 -0.285670 -0.111640  ...  0.099936  0.337120  0.251791   \n",
       "284794  2.080825  1.159498 -0.594242  ...  0.103302  0.654850 -0.348929   \n",
       "284795 -0.118228  0.435402  0.267772  ... -0.268048 -0.717211  0.297930   \n",
       "284796  0.115093 -0.204064 -0.657422  ... -0.314205 -0.808520  0.050343   \n",
       "\n",
       "             V24       V25       V26       V27       V28  类别   标准化交易金额  \n",
       "0      -0.371427 -0.232794  0.105915  0.253844  0.081080   0 -0.338549  \n",
       "1      -0.780055  0.750137 -0.257237  0.034507  0.005168   0 -0.333272  \n",
       "2      -0.649709 -0.415267 -0.051634 -1.206921 -1.085339   0 -0.190103  \n",
       "3       1.011592  0.373205 -0.384157  0.011747  0.142404   0  0.019394  \n",
       "4      -0.385050 -0.069733  0.094199  0.246219  0.083076   0 -0.338509  \n",
       "...          ...       ...       ...       ...       ...  ..       ...  \n",
       "284792  0.371441 -0.559238  0.113144  0.131507  0.081265   0 -0.331273  \n",
       "284793  0.057688 -1.508368  0.144023  0.181205  0.215243   0 -0.257070  \n",
       "284794  0.745323  0.704545 -0.127579  0.454379  0.130308   0 -0.033420  \n",
       "284795 -0.359769 -0.315610  0.201114 -0.080826 -0.075071   0 -0.342508  \n",
       "284796  0.102800 -0.435870  0.124079  0.217940  0.068803   0 -0.342468  \n",
       "\n",
       "[284797 rows x 30 columns]"
      ]
     },
     "execution_count": 5,
     "metadata": {},
     "output_type": "execute_result"
    }
   ],
   "source": [
    "#删除数据集中的不相关列\n",
    "data = data.drop(['时间','交易金额'],axis=1)\n",
    "data"
   ]
  },
  {
   "cell_type": "markdown",
   "metadata": {},
   "source": [
    "**3.用下采样方案训练模型**"
   ]
  },
  {
   "cell_type": "markdown",
   "metadata": {},
   "source": [
    "**3.1.建立下采样训练集、测试集**"
   ]
  },
  {
   "cell_type": "markdown",
   "metadata": {},
   "source": [
    "建立下采样数据集"
   ]
  },
  {
   "cell_type": "code",
   "execution_count": 6,
   "metadata": {},
   "outputs": [
    {
     "name": "stdout",
     "output_type": "stream",
     "text": [
      "正常样本占下采样样本比例:  0.5\n",
      "异常样本占下采样样本比例:  0.5\n",
      "下采样策略总体样本数量:  984\n"
     ]
    }
   ],
   "source": [
    "X = data.iloc[:, data.columns != '类别']#取特征（列名不是“类别”的所有数据）\n",
    "y = data.iloc[:, data.columns == '类别']#取标签（列名是“类别”的数据）\n",
    "\n",
    "#筛选出类别=1的数据（异常样本），取其索引\n",
    "number_records_fraud = len(data[data.类别 == 1])#统计数据集中类别=1（异常样本）的数据数量\n",
    "fraud_indices = np.array(data[data.类别 == 1].index)#将类别=1的数据索引转化成为np.array类型的数组（矩阵）\n",
    "\n",
    "#筛选出类别=0的数据（正常样本），取其索引\n",
    "normal_indices = data[data.类别 == 0].index \n",
    "\n",
    "#从正常样本的索引中随机选择和异常样本相同数量的索引，并转化为np.array\n",
    "random_normal_indices = np.random.choice(normal_indices, number_records_fraud, replace = False)\n",
    "                                                                              #replace = False：输出数字不可重复\n",
    "random_normal_indices = np.array(random_normal_indices)\n",
    "\n",
    "#将异常样本索引和随机选择的正常样本索引粘合在一起，构成新数据集的索引\n",
    "under_sample_indices = np.concatenate([fraud_indices,random_normal_indices])\n",
    "\n",
    "#根据索引，得到下采样数据集\n",
    "under_sample_data = data.iloc[under_sample_indices,:]\n",
    "\n",
    "#切分出下采样数据的特征和标签\n",
    "X_undersample = under_sample_data.iloc[:, under_sample_data.columns != '类别']\n",
    "y_undersample = under_sample_data.iloc[:, under_sample_data.columns == '类别']\n",
    "\n",
    "#展示下采样样本比例\n",
    "print(\"正常样本占下采样样本比例: \", len(under_sample_data[under_sample_data.类别 == 0])/len(under_sample_data))\n",
    "print(\"异常样本占下采样样本比例: \", len(under_sample_data[under_sample_data.类别 == 1])/len(under_sample_data))\n",
    "print(\"下采样策略总体样本数量: \", len(under_sample_data))"
   ]
  },
  {
   "cell_type": "markdown",
   "metadata": {},
   "source": [
    "数据集划分：将数据集切分为训练集和测试集"
   ]
  },
  {
   "cell_type": "code",
   "execution_count": 7,
   "metadata": {},
   "outputs": [
    {
     "name": "stdout",
     "output_type": "stream",
     "text": [
      "原始训练集包含样本数量:  199357\n",
      "原始测试集包含样本数量:  85440\n",
      "原始样本总数:  284797\n",
      "\n",
      "下采样训练集包含样本数量:  688\n",
      "下采样测试集包含样本数量:  296\n",
      "下采样样本总数: 984\n"
     ]
    }
   ],
   "source": [
    "#使用train_test_split函数\n",
    "from sklearn.model_selection import train_test_split \n",
    "\n",
    "#对全部原始数据进行切分\n",
    "X_train, X_test, y_train, y_test = train_test_split(X,y,test_size = 0.3, random_state = 0)\n",
    "#test_size = 0.3：测试集占数据集30%；\n",
    "\n",
    "print(\"原始训练集包含样本数量: \", len(X_train))\n",
    "print(\"原始测试集包含样本数量: \", len(X_test))\n",
    "print(\"原始样本总数: \", len(X_train)+len(X_test))\n",
    "\n",
    "#对下采样数据集进行切分，注意使用相同的随机策略\n",
    "X_train_undersample, X_test_undersample, y_train_undersample, y_test_undersample = train_test_split(X_undersample\n",
    "                                                                                                   ,y_undersample\n",
    "                                                                                                   ,test_size = 0.3\n",
    "                                                                                                   ,random_state = 0)\n",
    "#这里切分出下采样测试集并不是用来测试，而是用来比较，测试要用原始测试集。\n",
    "\n",
    "print(\"\")#打印下采样测试集包含样本数量，下采样测试集包含样本数量，下采样样本总量\n",
    "print(\"下采样训练集包含样本数量: \", len(X_train_undersample))\n",
    "print(\"下采样测试集包含样本数量: \", len(X_test_undersample))\n",
    "print(\"下采样样本总数:\", len(X_train_undersample)+len(X_test_undersample))"
   ]
  },
  {
   "cell_type": "markdown",
   "metadata": {},
   "source": [
    "**3.2.训练模型**"
   ]
  },
  {
   "cell_type": "markdown",
   "metadata": {},
   "source": [
    "导入相关函数"
   ]
  },
  {
   "cell_type": "code",
   "execution_count": 8,
   "metadata": {},
   "outputs": [],
   "source": [
    "#Recall=TP/(TP+FN)，选择召回率来评估模型效果，导入相关模块\n",
    "from sklearn.linear_model import LogisticRegression#逻辑回归\n",
    "from sklearn.model_selection import KFold, cross_val_score#交叉验证\n",
    "from sklearn.metrics import confusion_matrix,recall_score#混淆矩阵，召回率"
   ]
  },
  {
   "cell_type": "markdown",
   "metadata": {},
   "source": [
    "召回率是检索出的相关文档数目占文档库中所有相关文档数的比率。Recall=TP/(TP+FN)<br/>\n",
    "TP：被正确分类的正例个数，真阳性（True Positive）；<br/>\n",
    "FN：被错位分类的负例个数，假阴性（False Negative）；<br/>\n",
    "FP：被错位分类的正例个数，假阳性（False Positive）；<br/>\n",
    "TN：被正确分类的负例个数，真阴性（True Negative）；<br/>\n",
    "> &nbsp;|预测值=0| 与测试=1| \n",
    ">------------|----------|----------|\n",
    ">真实值=0 | TN | FP |\n",
    ">真实值=1 | FN | TP |"
   ]
  },
  {
   "cell_type": "markdown",
   "metadata": {},
   "source": [
    "建立逻辑回归模型"
   ]
  },
  {
   "cell_type": "code",
   "execution_count": 9,
   "metadata": {},
   "outputs": [],
   "source": [
    "#把训练集分成5分，不进行随机排列。\n",
    "def printing_Kfold_scores(x_train_data,y_train_data):\n",
    "    fold = KFold(5,shuffle=False)#K-fold：表示k折的交叉验证；shuffle=False：不进行随机排列\n",
    "    \n",
    "    #定义不同的正则化惩罚力度\n",
    "    c_param_range = [0.01,0.1,1,10,100]\n",
    "    \n",
    "    #展示结果用的表格（5行2列），来存储不同参数交叉验证得到的召回率\n",
    "    results_table = pd.DataFrame(columns = ['C_parameter','Mean recall score'])\n",
    "    results_table['C_parameter'] = c_param_range\n",
    "    #这里会得到两个索引集合：训练集=indices[0]，验证集=indices[1]\n",
    "    \n",
    "    #外层循环，循环遍历不同的参数\n",
    "    j = 0\n",
    "    for c_param in c_param_range:\n",
    "        print('-------------------------------------------')\n",
    "        print('正则化惩罚力度: ', c_param)\n",
    "        print('-------------------------------------------')\n",
    "        print('')\n",
    "        \n",
    "        recall_accs = []\n",
    "        #内层循环，执行交叉验证\n",
    "        for iteration, indices in enumerate(fold.split(x_train_data),start=1):\n",
    "            #fold.split(x_train_data)作用：返回样本切分之后数据集的indices，即索引\n",
    "            #iteration：i值，第i次交叉验证；indices：两个索引集合，训练集=indices[0]，验证集=indices[1]\n",
    "            #enumerate()：用于将一个可遍历的数据对象组合为一个索引序列，将fold和下标组合为一个索引序列\n",
    "            #确定算法模型——逻辑回归，惩罚参数使用惩罚力度，L1正则化\n",
    "            lr = LogisticRegression(C = c_param, penalty = 'l1',solver='liblinear')\n",
    "       \n",
    "            #使用训练集（索引是0）的训练模型\n",
    "            lr.fit(x_train_data.iloc[indices[0],:],y_train_data.iloc[indices[0],:].values.ravel())\n",
    "            \n",
    "            #建立号模型后，用验证集（索引是1）预测模型结果\n",
    "            y_pred_undersample = lr.predict(x_train_data.iloc[indices[1],:].values)\n",
    "            \n",
    "            #评估分类结果，计算召回率\n",
    "            recall_acc = recall_score(y_train_data.iloc[indices[1],:].values,y_pred_undersample)#计算一次召回率\n",
    "            recall_accs.append(recall_acc)#把五次的召回率加在一起以便后续求平均值\n",
    "            print('Iteration ', iteration,': 召回率= ', recall_acc)\n",
    "        #当执行完所有的交叉验证后，计算每个c参数对应的平均召回率并打印\n",
    "        results_table.loc[j,'Mean recall score'] = np.mean(recall_accs)\n",
    "        j += 1\n",
    "        print('')\n",
    "        print('平均召回率: ', np.mean(recall_accs))\n",
    "        print('')\n",
    "    #找到最好的参数（最高的平均召回率对应的参数）\n",
    "    best_c = results_table.loc[results_table['Mean recall score'].astype(float).idxmax()]['C_parameter']\n",
    "    \n",
    "    #打印最好的结果\n",
    "    print('*********************************************************************************')\n",
    "    print('效果最好的模型所选参数 = ', best_c)\n",
    "    print('*********************************************************************************')\n",
    "    \n",
    "    return best_c"
   ]
  },
  {
   "cell_type": "code",
   "execution_count": 10,
   "metadata": {},
   "outputs": [
    {
     "name": "stdout",
     "output_type": "stream",
     "text": [
      "-------------------------------------------\n",
      "正则化惩罚力度:  0.01\n",
      "-------------------------------------------\n",
      "\n",
      "Iteration  1 : 召回率=  0.9315068493150684\n",
      "Iteration  2 : 召回率=  0.9315068493150684\n",
      "Iteration  3 : 召回率=  0.9830508474576272\n",
      "Iteration  4 : 召回率=  0.9594594594594594\n",
      "Iteration  5 : 召回率=  0.9545454545454546\n",
      "\n",
      "平均召回率:  0.9520138920185357\n",
      "\n",
      "-------------------------------------------\n",
      "正则化惩罚力度:  0.1\n",
      "-------------------------------------------\n",
      "\n",
      "Iteration  1 : 召回率=  0.8493150684931506\n",
      "Iteration  2 : 召回率=  0.863013698630137\n",
      "Iteration  3 : 召回率=  0.9322033898305084\n",
      "Iteration  4 : 召回率=  0.9459459459459459\n",
      "Iteration  5 : 召回率=  0.9090909090909091\n",
      "\n",
      "平均召回率:  0.8999138023981302\n",
      "\n",
      "-------------------------------------------\n",
      "正则化惩罚力度:  1\n",
      "-------------------------------------------\n",
      "\n",
      "Iteration  1 : 召回率=  0.8493150684931506\n",
      "Iteration  2 : 召回率=  0.8904109589041096\n",
      "Iteration  3 : 召回率=  0.9491525423728814\n",
      "Iteration  4 : 召回率=  0.9459459459459459\n",
      "Iteration  5 : 召回率=  0.9090909090909091\n",
      "\n",
      "平均召回率:  0.9087830849613994\n",
      "\n",
      "-------------------------------------------\n",
      "正则化惩罚力度:  10\n",
      "-------------------------------------------\n",
      "\n",
      "Iteration  1 : 召回率=  0.8493150684931506\n",
      "Iteration  2 : 召回率=  0.8904109589041096\n",
      "Iteration  3 : 召回率=  0.9491525423728814\n",
      "Iteration  4 : 召回率=  0.9459459459459459\n",
      "Iteration  5 : 召回率=  0.9090909090909091\n",
      "\n",
      "平均召回率:  0.9087830849613994\n",
      "\n",
      "-------------------------------------------\n",
      "正则化惩罚力度:  100\n",
      "-------------------------------------------\n",
      "\n",
      "Iteration  1 : 召回率=  0.8493150684931506\n",
      "Iteration  2 : 召回率=  0.8904109589041096\n",
      "Iteration  3 : 召回率=  0.9661016949152542\n",
      "Iteration  4 : 召回率=  0.9459459459459459\n",
      "Iteration  5 : 召回率=  0.9242424242424242\n",
      "\n",
      "平均召回率:  0.9152032185001768\n",
      "\n",
      "*********************************************************************************\n",
      "效果最好的模型所选参数 =  0.01\n",
      "*********************************************************************************\n"
     ]
    }
   ],
   "source": [
    "best_c = printing_Kfold_scores(X_train_undersample,y_train_undersample)#传入下采样数据集"
   ]
  },
  {
   "cell_type": "markdown",
   "metadata": {},
   "source": [
    "**3.3.测试模型**"
   ]
  },
  {
   "cell_type": "markdown",
   "metadata": {},
   "source": [
    "绘制混淆矩阵"
   ]
  },
  {
   "cell_type": "code",
   "execution_count": 11,
   "metadata": {},
   "outputs": [],
   "source": [
    "#绘制混淆矩阵函数（cm：计算出的混淆矩阵的值，classes：分类标签，title:标题，cmap：绘制样式）\n",
    "def plot_confusion_matrix(cm, classes,\n",
    "                          title='Confusion matrix',\n",
    "                          cmap=plt.cm.Blues):\n",
    "    \n",
    "    plt.imshow(cm,cmap=cmap)#设置绘制参数\n",
    "    plt.title(title)#绘制标题\n",
    "    plt.colorbar()#绘制灰度条\n",
    "    tick_marks = np.arange(len(classes))#设置tick_marks的值\n",
    "    plt.xticks(tick_marks, classes)#设置x轴刻度\n",
    "    plt.yticks(tick_marks, classes)#设置y轴刻度\n",
    "\n",
    "    thresh = cm.max() / 2.\n",
    "    for i, j in itertools.product(range(cm.shape[0]), range(cm.shape[1])):\n",
    "        plt.text(j, i, cm[i, j],\n",
    "                 horizontalalignment=\"center\",\n",
    "                 color=\"white\" if cm[i, j] > thresh else \"black\")#设置字体颜色\n",
    "    plt.tight_layout()#紧凑显示图片，居中显示（如果没有这个，后面画多张图片时排版很乱）\n",
    "    plt.ylabel('True label')#绘制y轴标题\n",
    "    plt.xlabel('Predicted label')#绘制x轴标题"
   ]
  },
  {
   "cell_type": "markdown",
   "metadata": {},
   "source": [
    "用下采样数据的测试集测试下采样方案"
   ]
  },
  {
   "cell_type": "code",
   "execution_count": 12,
   "metadata": {},
   "outputs": [
    {
     "name": "stdout",
     "output_type": "stream",
     "text": [
      "测试集中的召回率:  0.9115646258503401\n"
     ]
    },
    {
     "data": {
      "image/png": "[encoded data removed]",
      "text/plain": [
       "<Figure size 640x480 with 2 Axes>"
      ]
     },
     "metadata": {},
     "output_type": "display_data"
    }
   ],
   "source": [
    "import itertools\n",
    "lr = LogisticRegression(C = best_c, penalty = 'l1',solver='liblinear')#引入这孩子齐纳得出的最佳c参数\n",
    "lr.fit(X_train_undersample,y_train_undersample.values.ravel())#使用最好的模型对训练集进行训练\n",
    "y_pred_undersample = lr.predict(X_test_undersample.values)#用测试集预测模型结果\n",
    "\n",
    "cnf_matrix = confusion_matrix(y_test_undersample,y_pred_undersample)#计算混淆矩阵所需值\n",
    "np.set_printoptions(precision=2)#精度为小数点后2位\n",
    "\n",
    "print(\"测试集中的召回率: \",cnf_matrix[1,1]/(cnf_matrix[1,0]+cnf_matrix[1,1]))\n",
    "\n",
    "#绘图\n",
    "class_names = [0,1]\n",
    "plt.figure()#画图前先设置画布\n",
    "plot_confusion_matrix(cnf_matrix\n",
    "                      , classes=class_names\n",
    "                      , title='Confusion matrix')\n",
    "plt.show()"
   ]
  },
  {
   "cell_type": "markdown",
   "metadata": {},
   "source": [
    "上述结果解释：这是理想情况下的测试，因为下采样数据集中正常样本：异常样本=1：1，但实际数据是28w：500。"
   ]
  },
  {
   "cell_type": "markdown",
   "metadata": {},
   "source": [
    "用原始数据的测试集测试下采样方案"
   ]
  },
  {
   "cell_type": "code",
   "execution_count": 13,
   "metadata": {},
   "outputs": [
    {
     "name": "stdout",
     "output_type": "stream",
     "text": [
      "测试集中的召回率:  0.8954248366013072\n"
     ]
    },
    {
     "data": {
      "image/png": "[encoded data removed]",
      "text/plain": [
       "<Figure size 640x480 with 2 Axes>"
      ]
     },
     "metadata": {},
     "output_type": "display_data"
    }
   ],
   "source": [
    "lr = LogisticRegression(C = best_c, penalty = 'l1',solver='liblinear')\n",
    "lr.fit(X_train_undersample,y_train_undersample.values.ravel())\n",
    "y_pred = lr.predict(X_test.values)#这里将下采样测试集换为实际情况的测试集\n",
    "\n",
    "#计算混淆矩阵所需值\n",
    "cnf_matrix = confusion_matrix(y_test,y_pred)\n",
    "np.set_printoptions(precision=2)\n",
    "\n",
    "print(\"测试集中的召回率: \", cnf_matrix[1,1]/(cnf_matrix[1,0]+cnf_matrix[1,1]))\n",
    "\n",
    "#绘图\n",
    "class_names = [0,1]\n",
    "plt.figure()\n",
    "plot_confusion_matrix(cnf_matrix\n",
    "                      , classes=class_names\n",
    "                      , title='Confusion matrix')\n",
    "plt.show()"
   ]
  },
  {
   "cell_type": "markdown",
   "metadata": {},
   "source": [
    "上述结果解释：这是实际情况下的测试，可以看出——在数据量小的数据集上训练出的模型应用在数据量大的数据集上，召回率偏差不大，但实际为正常数据而被预测为异常数据的数据量占比偏高，即假阳性太多。"
   ]
  },
  {
   "cell_type": "markdown",
   "metadata": {},
   "source": [
    "**4.下采样方案训练模型改进**"
   ]
  },
  {
   "cell_type": "markdown",
   "metadata": {},
   "source": [
    "**4.1.不采样方案训练模型**"
   ]
  },
  {
   "cell_type": "markdown",
   "metadata": {},
   "source": [
    "如果一开始没有对数据进行预处理，结果怎样。"
   ]
  },
  {
   "cell_type": "code",
   "execution_count": 14,
   "metadata": {},
   "outputs": [
    {
     "name": "stdout",
     "output_type": "stream",
     "text": [
      "-------------------------------------------\n",
      "正则化惩罚力度:  0.01\n",
      "-------------------------------------------\n",
      "\n",
      "Iteration  1 : 召回率=  0.45454545454545453\n",
      "Iteration  2 : 召回率=  0.5909090909090909\n",
      "Iteration  3 : 召回率=  0.6268656716417911\n",
      "Iteration  4 : 召回率=  0.5\n",
      "Iteration  5 : 召回率=  0.53125\n",
      "\n",
      "平均召回率:  0.5407140434192673\n",
      "\n",
      "-------------------------------------------\n",
      "正则化惩罚力度:  0.1\n",
      "-------------------------------------------\n",
      "\n",
      "Iteration  1 : 召回率=  0.5757575757575758\n",
      "Iteration  2 : 召回率=  0.6666666666666666\n",
      "Iteration  3 : 召回率=  0.6865671641791045\n",
      "Iteration  4 : 召回率=  0.5526315789473685\n",
      "Iteration  5 : 召回率=  0.53125\n",
      "\n",
      "平均召回率:  0.602574597110143\n",
      "\n",
      "-------------------------------------------\n",
      "正则化惩罚力度:  1\n",
      "-------------------------------------------\n",
      "\n",
      "Iteration  1 : 召回率=  0.5909090909090909\n",
      "Iteration  2 : 召回率=  0.6818181818181818\n",
      "Iteration  3 : 召回率=  0.6417910447761194\n",
      "Iteration  4 : 召回率=  0.5789473684210527\n",
      "Iteration  5 : 召回率=  0.546875\n",
      "\n",
      "平均召回率:  0.608068137184889\n",
      "\n",
      "-------------------------------------------\n",
      "正则化惩罚力度:  10\n",
      "-------------------------------------------\n",
      "\n",
      "Iteration  1 : 召回率=  0.5909090909090909\n",
      "Iteration  2 : 召回率=  0.6818181818181818\n",
      "Iteration  3 : 召回率=  0.6417910447761194\n",
      "Iteration  4 : 召回率=  0.5789473684210527\n",
      "Iteration  5 : 召回率=  0.546875\n",
      "\n",
      "平均召回率:  0.608068137184889\n",
      "\n",
      "-------------------------------------------\n",
      "正则化惩罚力度:  100\n",
      "-------------------------------------------\n",
      "\n",
      "Iteration  1 : 召回率=  0.5909090909090909\n",
      "Iteration  2 : 召回率=  0.6818181818181818\n",
      "Iteration  3 : 召回率=  0.6417910447761194\n",
      "Iteration  4 : 召回率=  0.5789473684210527\n",
      "Iteration  5 : 召回率=  0.546875\n",
      "\n",
      "平均召回率:  0.608068137184889\n",
      "\n",
      "*********************************************************************************\n",
      "效果最好的模型所选参数 =  1.0\n",
      "*********************************************************************************\n"
     ]
    }
   ],
   "source": [
    "best_c = printing_Kfold_scores(X_train,y_train)#传入原始数据集"
   ]
  },
  {
   "cell_type": "markdown",
   "metadata": {},
   "source": [
    "可以看出，由于原始数据严重不平衡，召回效果不平衡，召回效果比较差。因此对数据进行预处理是很有必要的。"
   ]
  },
  {
   "cell_type": "markdown",
   "metadata": {},
   "source": [
    "通过混淆矩阵来查看原始数据训练模型的预测结果"
   ]
  },
  {
   "cell_type": "code",
   "execution_count": 15,
   "metadata": {},
   "outputs": [
    {
     "name": "stdout",
     "output_type": "stream",
     "text": [
      "测试集中的召回率:  0.5816993464052288\n"
     ]
    },
    {
     "data": {
      "image/png": "[encoded data removed]",
      "text/plain": [
       "<Figure size 640x480 with 2 Axes>"
      ]
     },
     "metadata": {},
     "output_type": "display_data"
    }
   ],
   "source": [
    "lr = LogisticRegression(C = best_c, penalty = 'l1',solver='liblinear')\n",
    "lr.fit(X_train,y_train.values.ravel())\n",
    "y_pred_undersample = lr.predict(X_test.values)\n",
    "\n",
    "#计算混淆矩阵所需值\n",
    "cnf_matrix = confusion_matrix(y_test,y_pred_undersample)\n",
    "np.set_printoptions(precision=2)\n",
    "\n",
    "print(\"测试集中的召回率: \", cnf_matrix[1,1]/(cnf_matrix[1,0]+cnf_matrix[1,1]))\n",
    "\n",
    "#绘图\n",
    "class_names = [0,1]\n",
    "plt.figure()\n",
    "plot_confusion_matrix(cnf_matrix\n",
    "                      , classes=class_names\n",
    "                      , title='Confusion matrix')\n",
    "plt.show()"
   ]
  },
  {
   "cell_type": "markdown",
   "metadata": {},
   "source": [
    "上述结果解释：观察混淆矩阵可以看出，如果使用原始数据训练模型，预测结果——假阳性变少，但是对应的召回率较低，很多欺诈数据没有找到。"
   ]
  },
  {
   "cell_type": "markdown",
   "metadata": {},
   "source": [
    "**4.2.调整下采样阈值并训练模型**"
   ]
  },
  {
   "cell_type": "markdown",
   "metadata": {},
   "source": [
    "之前我们使用的是默认阈值0.5，如果自己指定阈值，结果怎样。"
   ]
  },
  {
   "cell_type": "code",
   "execution_count": 16,
   "metadata": {},
   "outputs": [
    {
     "name": "stdout",
     "output_type": "stream",
     "text": [
      "测试集中的召回率:  1.0\n",
      "测试集中的召回率:  1.0\n",
      "测试集中的召回率:  1.0\n",
      "测试集中的召回率:  0.9727891156462585\n",
      "测试集中的召回率:  0.9115646258503401\n",
      "测试集中的召回率:  0.8775510204081632\n",
      "测试集中的召回率:  0.8163265306122449\n",
      "测试集中的召回率:  0.7687074829931972\n",
      "测试集中的召回率:  0.5850340136054422\n"
     ]
    },
    {
     "data": {
      "image/png": "[encoded data removed]",
      "text/plain": [
       "<Figure size 1000x1000 with 18 Axes>"
      ]
     },
     "metadata": {},
     "output_type": "display_data"
    }
   ],
   "source": [
    "lr = LogisticRegression(C = 0.01, penalty = 'l1',solver='liblinear')#用下采样数据集得到的最好参数建模\n",
    "lr.fit(X_train_undersample,y_train_undersample.values.ravel())#还用下采样数据集训练模型\n",
    "y_pred_undersample_proba = lr.predict_proba(X_test_undersample.values)#利用predict_proba得到预测结果的概率值\n",
    "\n",
    "#设置不同的阈值\n",
    "thresholds = [0.1,0.2,0.3,0.4,0.5,0.6,0.7,0.8,0.9]\n",
    "\n",
    "plt.figure(figsize=(10,10))#设置画布大小\n",
    "\n",
    "j = 1\n",
    "for i in thresholds:\n",
    "    y_test_predictions_high_recall = y_pred_undersample_proba[:,1] > i#将概率值转化：判断（以0.5为例）。概率值比0.5大是异常；比0.5小是正常\n",
    "    \n",
    "    plt.subplot(3,3,j)#3*3的子图，j表示几个图，每张图对应一个阈值\n",
    "    j += 1#设置子图起点\n",
    "    \n",
    "    #计算混淆矩阵所需值\n",
    "    cnf_matrix = confusion_matrix(y_test_undersample,y_test_predictions_high_recall)\n",
    "    np.set_printoptions(precision=2)\n",
    "\n",
    "    print(\"测试集中的召回率: \", cnf_matrix[1,1]/(cnf_matrix[1,0]+cnf_matrix[1,1]))\n",
    "    \n",
    "    #绘图\n",
    "    class_names = [0,1]\n",
    "    plot_confusion_matrix(cnf_matrix\n",
    "                          , classes=class_names\n",
    "                          , title='Threshold >= %s'%i) "
   ]
  },
  {
   "cell_type": "markdown",
   "metadata": {},
   "source": [
    "上述结果解释：随着阈值增大，召回率降低，因为判断异常的标准提高了。当阈值为0.1-0.3时，召回率为1，但是将所有样本当作异常，这样的模型没有意义；当阈值为0.4时，召回率高但是假阳性太高，不用；当阈值为0.6时，对比0.5，漏检变多，假阳性变少，具体选哪一个要看实际指标；当阈值为0.7-0.9时，召回率低，模型不不可取。"
   ]
  },
  {
   "cell_type": "markdown",
   "metadata": {},
   "source": [
    "最终结论：下采样方案有局限性，假阳性高，下面采用过采样方案。"
   ]
  },
  {
   "cell_type": "markdown",
   "metadata": {},
   "source": [
    "**5.过采样方案训练模型**"
   ]
  },
  {
   "cell_type": "markdown",
   "metadata": {},
   "source": [
    "**5.1建立过采样训练集、测试集**"
   ]
  },
  {
   "cell_type": "markdown",
   "metadata": {},
   "source": [
    "过采样方案如何生成数据：SMOTE样本生成策略——在两个样本连线上随机生成新样本。<br/>\n",
    "步骤：1.判断哪部分是少数数据。2.计算样本间距离。3.将样本距离从小到大排序。4.确定一个倍率k=i，选最小的i个距离的d，5.x_new=x+Random(0,1)*d。"
   ]
  },
  {
   "cell_type": "markdown",
   "metadata": {},
   "source": [
    "导入工具包"
   ]
  },
  {
   "cell_type": "code",
   "execution_count": 17,
   "metadata": {},
   "outputs": [],
   "source": [
    "import pandas as pd \n",
    "from imblearn.over_sampling import SMOTE\n",
    "from sklearn.ensemble import RandomForestClassifier\n",
    "from sklearn.metrics import confusion_matrix\n",
    "from sklearn.model_selection import train_test_split"
   ]
  },
  {
   "cell_type": "markdown",
   "metadata": {},
   "source": [
    "读取数据，划分特征和标签"
   ]
  },
  {
   "cell_type": "code",
   "execution_count": 18,
   "metadata": {},
   "outputs": [],
   "source": [
    "credit_cards=pd.read_csv('./data/data_creditcard.csv',encoding='gbk')#读取数据\n",
    "\n",
    "columns=credit_cards.columns#获取表中的列名\n",
    "features_columns=columns.delete(len(columns)-1)#删除最后一列（类别列）\n",
    "\n",
    "features=credit_cards[features_columns]#获取除“类别”列以外的所有特征\n",
    "labels=credit_cards['类别']#获取“类别”列的标签"
   ]
  },
  {
   "cell_type": "markdown",
   "metadata": {},
   "source": [
    "数据集切分：将数据集且分为训练集和测试集"
   ]
  },
  {
   "cell_type": "code",
   "execution_count": 19,
   "metadata": {},
   "outputs": [],
   "source": [
    "features_train, features_test, labels_train, labels_test = train_test_split(features, \n",
    "                                                                            labels, \n",
    "                                                                            test_size=0.2, \n",
    "                                                                            random_state=0)"
   ]
  },
  {
   "cell_type": "markdown",
   "metadata": {},
   "source": [
    "基于SMOTE算法进行样本生成，创造新的数据集，这样正例和负例样本数量就一致了"
   ]
  },
  {
   "cell_type": "code",
   "execution_count": 20,
   "metadata": {},
   "outputs": [],
   "source": [
    "oversampler=SMOTE(random_state=0)\n",
    "os_features,os_labels=oversampler.fit_resample(features_train,labels_train)"
   ]
  },
  {
   "cell_type": "markdown",
   "metadata": {},
   "source": [
    "查看训练集样本数据，标签为0和1的数据1:1，均为227450个"
   ]
  },
  {
   "cell_type": "code",
   "execution_count": 21,
   "metadata": {},
   "outputs": [
    {
     "data": {
      "text/plain": [
       "227450"
      ]
     },
     "execution_count": 21,
     "metadata": {},
     "output_type": "execute_result"
    }
   ],
   "source": [
    "len(os_labels[os_labels==1])"
   ]
  },
  {
   "cell_type": "markdown",
   "metadata": {},
   "source": [
    "**5.2.训练模型**"
   ]
  },
  {
   "cell_type": "markdown",
   "metadata": {},
   "source": [
    "利用新的过采样数据集进行交叉验证，找到best_c"
   ]
  },
  {
   "cell_type": "code",
   "execution_count": 22,
   "metadata": {},
   "outputs": [
    {
     "name": "stdout",
     "output_type": "stream",
     "text": [
      "-------------------------------------------\n",
      "正则化惩罚力度:  0.01\n",
      "-------------------------------------------\n",
      "\n",
      "Iteration  1 : 召回率=  0.8831168831168831\n",
      "Iteration  2 : 召回率=  0.93125\n",
      "Iteration  3 : 召回率=  0.9650256773508057\n",
      "Iteration  4 : 召回率=  0.9588261156298088\n",
      "Iteration  5 : 召回率=  0.958727192789624\n",
      "\n",
      "平均召回率:  0.9393891737774244\n",
      "\n",
      "-------------------------------------------\n",
      "正则化惩罚力度:  0.1\n",
      "-------------------------------------------\n",
      "\n",
      "Iteration  1 : 召回率=  0.8831168831168831\n",
      "Iteration  2 : 召回率=  0.93125\n",
      "Iteration  3 : 召回率=  0.9663095448910927\n",
      "Iteration  4 : 召回率=  0.9596504726313475\n",
      "Iteration  5 : 召回率=  0.9598373268850297\n",
      "\n",
      "平均召回率:  0.9400328455048707\n",
      "\n",
      "-------------------------------------------\n",
      "正则化惩罚力度:  1\n",
      "-------------------------------------------\n",
      "\n",
      "Iteration  1 : 召回率=  0.8831168831168831\n",
      "Iteration  2 : 召回率=  0.93125\n",
      "Iteration  3 : 召回率=  0.9665309013635559\n",
      "Iteration  4 : 召回率=  0.958540338535942\n",
      "Iteration  5 : 召回率=  0.9584633985491317\n",
      "\n",
      "平均召回率:  0.9395803043131027\n",
      "\n",
      "-------------------------------------------\n",
      "正则化惩罚力度:  10\n",
      "-------------------------------------------\n",
      "\n",
      "Iteration  1 : 召回率=  0.8896103896103896\n",
      "Iteration  2 : 召回率=  0.93125\n",
      "Iteration  3 : 召回率=  0.9666637152470339\n",
      "Iteration  4 : 召回率=  0.9603209496592657\n",
      "Iteration  5 : 召回率=  0.959738404044845\n",
      "\n",
      "平均召回率:  0.9415166917123068\n",
      "\n",
      "-------------------------------------------\n",
      "正则化惩罚力度:  100\n",
      "-------------------------------------------\n",
      "\n",
      "Iteration  1 : 召回率=  0.8831168831168831\n",
      "Iteration  2 : 召回率=  0.93125\n",
      "Iteration  3 : 召回率=  0.9656897467681955\n",
      "Iteration  4 : 召回率=  0.9602220268190811\n",
      "Iteration  5 : 召回率=  0.9599582325785887\n",
      "\n",
      "平均召回率:  0.9400473778565497\n",
      "\n",
      "*********************************************************************************\n",
      "效果最好的模型所选参数 =  10.0\n",
      "*********************************************************************************\n"
     ]
    }
   ],
   "source": [
    "os_features = pd.DataFrame(os_features)\n",
    "os_labels = pd.DataFrame(os_labels)\n",
    "best_c = printing_Kfold_scores(os_features,os_labels)"
   ]
  },
  {
   "cell_type": "markdown",
   "metadata": {},
   "source": [
    "**5.3.测试模型**"
   ]
  },
  {
   "cell_type": "markdown",
   "metadata": {},
   "source": [
    "利用混淆矩阵查看模型结果"
   ]
  },
  {
   "cell_type": "code",
   "execution_count": 23,
   "metadata": {},
   "outputs": [
    {
     "name": "stdout",
     "output_type": "stream",
     "text": [
      "测试集中的召回率:  0.8761904761904762\n"
     ]
    },
    {
     "data": {
      "image/png": "[encoded data removed]",
      "text/plain": [
       "<Figure size 640x480 with 2 Axes>"
      ]
     },
     "metadata": {},
     "output_type": "display_data"
    }
   ],
   "source": [
    "lr = LogisticRegression(C = best_c, penalty = 'l1',solver='liblinear')\n",
    "lr.fit(os_features,os_labels.values.ravel())\n",
    "y_pred = lr.predict(features_test.values)\n",
    "\n",
    "#计算混淆矩阵所需值\n",
    "cnf_matrix = confusion_matrix(labels_test,y_pred)\n",
    "np.set_printoptions(precision=2)\n",
    "\n",
    "print(\"测试集中的召回率: \", cnf_matrix[1,1]/(cnf_matrix[1,0]+cnf_matrix[1,1]))\n",
    "\n",
    "#绘制\n",
    "class_names = [0,1]\n",
    "plt.figure()\n",
    "plot_confusion_matrix(cnf_matrix\n",
    "                      , classes=class_names\n",
    "                      , title='Confusion matrix')\n",
    "plt.show()"
   ]
  },
  {
   "cell_type": "markdown",
   "metadata": {},
   "source": [
    "上述结果解释：观察混淆矩阵，与下采样方案相比，召回率略低，但将正常样本误判为异常样本的数目明显减少，故过采样策略模型效果更好。"
   ]
  },
  {
   "cell_type": "code",
   "execution_count": null,
   "metadata": {},
   "outputs": [],
   "source": []
  }
 ],
 "metadata": {
  "anaconda-cloud": {},
  "kernelspec": {
   "display_name": "Python 3 (ipykernel)",
   "language": "python",
   "name": "python3"
  },
  "language_info": {
   "codemirror_mode": {
    "name": "ipython",
    "version": 3
   },
   "file_extension": ".py",
   "mimetype": "text/x-python",
   "name": "python",
   "nbconvert_exporter": "python",
   "pygments_lexer": "ipython3",
   "version": "3.9.13"
  }
 },
 "nbformat": 4,
 "nbformat_minor": 4
}
